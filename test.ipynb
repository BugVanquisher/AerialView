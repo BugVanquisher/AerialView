{
 "metadata": {
  "language_info": {
   "codemirror_mode": {
    "name": "ipython",
    "version": 3
   },
   "file_extension": ".py",
   "mimetype": "text/x-python",
   "name": "python",
   "nbconvert_exporter": "python",
   "pygments_lexer": "ipython3",
   "version": "3.8.5-final"
  },
  "orig_nbformat": 2,
  "kernelspec": {
   "name": "python38564bitvenvvenvb2db5ef433114f9b8e5340ade3b373f4",
   "display_name": "Python 3.8.5 64-bit ('venv': venv)"
  }
 },
 "nbformat": 4,
 "nbformat_minor": 2,
 "cells": [
  {
   "cell_type": "code",
   "execution_count": 1,
   "metadata": {},
   "outputs": [],
   "source": [
    "import yfinance as yf"
   ]
  },
  {
   "cell_type": "code",
   "execution_count": 2,
   "metadata": {},
   "outputs": [],
   "source": [
    "amzn = yf.Ticker('AMZN')"
   ]
  },
  {
   "cell_type": "code",
   "execution_count": 3,
   "metadata": {},
   "outputs": [
    {
     "output_type": "execute_result",
     "data": {
      "text/plain": "{'zip': '98109-5210',\n 'sector': 'Consumer Cyclical',\n 'fullTimeEmployees': 798000,\n 'longBusinessSummary': 'Amazon.com, Inc. engages in the retail sale of consumer products and subscriptions in North America and internationally. The company operates through three segments: North America, International, and Amazon Web Services (AWS). It sells merchandise and content purchased for resale from third-party sellers through physical and online stores. The company also manufactures and sells electronic devices, including Kindle, Fire tablets, Fire TVs, Rings, and Echo and other devices; provides Kindle Direct Publishing, an online service that allows independent authors and publishers to make their books available in the Kindle Store; and develops and produces media content. In addition, it offers programs that enable sellers to sell their products on its Websites, as well as its stores; and programs that allow authors, musicians, filmmakers, skill and app developers, and others to publish and sell content. Further, the company provides compute, storage, database, and other AWS services, as well as fulfillment, advertising, publishing, and digital content subscriptions. Additionally, it offers Amazon Prime, a membership program, which provides free shipping of various items; access to streaming of movies and TV episodes; and other services. The company also operates in the food delivery business in Bengaluru, India. It serves consumers, sellers, developers, enterprises, and content creators. The company also has utility-scale solar projects in China, Australia, and the United States. Amazon.com, Inc. was founded in 1994 and is headquartered in Seattle, Washington.',\n 'city': 'Seattle',\n 'phone': '206-266-1000',\n 'country': 'United States',\n 'companyOfficers': [],\n 'website': 'http://www.amazon.com',\n 'maxAge': 1,\n 'address1': '410 Terry Avenue North',\n 'industry': 'Internet Retail',\n 'previousClose': 3162.24,\n 'regularMarketOpen': 3182.99,\n 'twoHundredDayAverage': 2406.3,\n 'trailingAnnualDividendYield': None,\n 'payoutRatio': 0,\n 'volume24Hr': None,\n 'regularMarketDayHigh': 3217.521,\n 'navPrice': None,\n 'averageDailyVolume10Day': 3997087,\n 'totalAssets': None,\n 'regularMarketPreviousClose': 3162.24,\n 'fiftyDayAverage': 3029.86,\n 'trailingAnnualDividendRate': None,\n 'open': 3182.99,\n 'toCurrency': None,\n 'averageVolume10days': 3997087,\n 'expireDate': None,\n 'yield': None,\n 'algorithm': None,\n 'dividendRate': None,\n 'exDividendDate': None,\n 'beta': 1.325274,\n 'circulatingSupply': None,\n 'startDate': None,\n 'regularMarketDayLow': 3155,\n 'priceHint': 2,\n 'currency': 'USD',\n 'trailingPE': 121.40492,\n 'regularMarketVolume': 3149043,\n 'lastMarket': None,\n 'maxSupply': None,\n 'openInterest': None,\n 'marketCap': 1583323283456,\n 'volumeAllCurrencies': None,\n 'strikePrice': None,\n 'averageVolume': 4624582,\n 'priceToSalesTrailing12Months': 4.9204845,\n 'dayLow': 3155,\n 'ask': 3167,\n 'ytdReturn': None,\n 'askSize': 800,\n 'volume': 3149043,\n 'fiftyTwoWeekHigh': 3344.29,\n 'forwardPE': 71.403206,\n 'fromCurrency': None,\n 'fiveYearAvgDividendYield': None,\n 'fiftyTwoWeekLow': 1626.03,\n 'bid': 3167,\n 'tradeable': False,\n 'dividendYield': None,\n 'bidSize': 800,\n 'dayHigh': 3217.521,\n 'exchange': 'NMS',\n 'shortName': 'Amazon.com, Inc.',\n 'longName': 'Amazon.com, Inc.',\n 'exchangeTimezoneName': 'America/New_York',\n 'exchangeTimezoneShortName': 'EDT',\n 'isEsgPopulated': False,\n 'gmtOffSetMilliseconds': '-14400000',\n 'quoteType': 'EQUITY',\n 'symbol': 'AMZN',\n 'messageBoardId': 'finmb_18749',\n 'market': 'us_market',\n 'annualHoldingsTurnover': None,\n 'enterpriseToRevenue': 4.985,\n 'beta3Year': None,\n 'profitMargins': 0.040960003,\n 'enterpriseToEbitda': 40.529,\n '52WeekChange': 0.7804202,\n 'morningStarRiskRating': None,\n 'forwardEps': 44.27,\n 'revenueQuarterlyGrowth': None,\n 'sharesOutstanding': 500889984,\n 'fundInceptionDate': None,\n 'annualReportExpenseRatio': None,\n 'bookValue': 147.162,\n 'sharesShort': 3086467,\n 'sharesPercentSharesOut': 0.0062,\n 'fundFamily': None,\n 'lastFiscalYearEnd': 1577750400,\n 'heldPercentInstitutions': 0.57689,\n 'netIncomeToCommon': 13180000256,\n 'trailingEps': 26.037,\n 'lastDividendValue': None,\n 'SandP52WeekChange': 0.18708742,\n 'priceToBook': 21.479866,\n 'heldPercentInsiders': 0.15122,\n 'nextFiscalYearEnd': 1640908800,\n 'mostRecentQuarter': 1593475200,\n 'shortRatio': 0.54,\n 'sharesShortPreviousMonthDate': 1593475200,\n 'floatShares': 425625972,\n 'enterpriseValue': 1603943268352,\n 'threeYearAverageReturn': None,\n 'lastSplitDate': 936230400,\n 'lastSplitFactor': '2:1',\n 'legalType': None,\n 'morningStarOverallRating': None,\n 'earningsQuarterlyGrowth': 0.997,\n 'dateShortInterest': 1596153600,\n 'pegRatio': 2.7,\n 'lastCapGain': None,\n 'shortPercentOfFloat': 0.0073,\n 'sharesShortPriorMonth': 3850771,\n 'category': None,\n 'fiveYearAverageReturn': None,\n 'regularMarketPrice': 3182.99,\n 'logo_url': 'https://logo.clearbit.com/amazon.com'}"
     },
     "metadata": {},
     "execution_count": 3
    }
   ],
   "source": [
    "amzn.info"
   ]
  },
  {
   "cell_type": "code",
   "execution_count": 5,
   "metadata": {},
   "outputs": [
    {
     "output_type": "execute_result",
     "data": {
      "text/plain": "                                  Firm      To Grade From Grade Action\nDate                                                                  \n2011-12-29 12:47:00       PiperJaffray                            main\n2012-02-15 07:33:00       PiperJaffray    Overweight              main\n2012-02-16 06:17:00     Morgan Stanley  Equal-Weight              down\n2012-04-02 06:06:00       Bank oferica       Neutral              down\n2012-04-27 06:21:00       Bank oferica           Buy                up\n...                                ...           ...        ...    ...\n2020-07-31 10:59:40            Needham           Buy              main\n2020-07-31 11:41:56      Raymond James    Outperform              main\n2020-07-31 11:46:26     Morgan Stanley    Overweight              main\n2020-07-31 12:48:42      Credit Suisse    Outperform              main\n2020-07-31 13:43:10  Canaccord Genuity           Buy              main\n\n[372 rows x 4 columns]",
      "text/html": "<div>\n<style scoped>\n    .dataframe tbody tr th:only-of-type {\n        vertical-align: middle;\n    }\n\n    .dataframe tbody tr th {\n        vertical-align: top;\n    }\n\n    .dataframe thead th {\n        text-align: right;\n    }\n</style>\n<table border=\"1\" class=\"dataframe\">\n  <thead>\n    <tr style=\"text-align: right;\">\n      <th></th>\n      <th>Firm</th>\n      <th>To Grade</th>\n      <th>From Grade</th>\n      <th>Action</th>\n    </tr>\n    <tr>\n      <th>Date</th>\n      <th></th>\n      <th></th>\n      <th></th>\n      <th></th>\n    </tr>\n  </thead>\n  <tbody>\n    <tr>\n      <th>2011-12-29 12:47:00</th>\n      <td>PiperJaffray</td>\n      <td></td>\n      <td></td>\n      <td>main</td>\n    </tr>\n    <tr>\n      <th>2012-02-15 07:33:00</th>\n      <td>PiperJaffray</td>\n      <td>Overweight</td>\n      <td></td>\n      <td>main</td>\n    </tr>\n    <tr>\n      <th>2012-02-16 06:17:00</th>\n      <td>Morgan Stanley</td>\n      <td>Equal-Weight</td>\n      <td></td>\n      <td>down</td>\n    </tr>\n    <tr>\n      <th>2012-04-02 06:06:00</th>\n      <td>Bank oferica</td>\n      <td>Neutral</td>\n      <td></td>\n      <td>down</td>\n    </tr>\n    <tr>\n      <th>2012-04-27 06:21:00</th>\n      <td>Bank oferica</td>\n      <td>Buy</td>\n      <td></td>\n      <td>up</td>\n    </tr>\n    <tr>\n      <th>...</th>\n      <td>...</td>\n      <td>...</td>\n      <td>...</td>\n      <td>...</td>\n    </tr>\n    <tr>\n      <th>2020-07-31 10:59:40</th>\n      <td>Needham</td>\n      <td>Buy</td>\n      <td></td>\n      <td>main</td>\n    </tr>\n    <tr>\n      <th>2020-07-31 11:41:56</th>\n      <td>Raymond James</td>\n      <td>Outperform</td>\n      <td></td>\n      <td>main</td>\n    </tr>\n    <tr>\n      <th>2020-07-31 11:46:26</th>\n      <td>Morgan Stanley</td>\n      <td>Overweight</td>\n      <td></td>\n      <td>main</td>\n    </tr>\n    <tr>\n      <th>2020-07-31 12:48:42</th>\n      <td>Credit Suisse</td>\n      <td>Outperform</td>\n      <td></td>\n      <td>main</td>\n    </tr>\n    <tr>\n      <th>2020-07-31 13:43:10</th>\n      <td>Canaccord Genuity</td>\n      <td>Buy</td>\n      <td></td>\n      <td>main</td>\n    </tr>\n  </tbody>\n</table>\n<p>372 rows × 4 columns</p>\n</div>"
     },
     "metadata": {},
     "execution_count": 5
    }
   ],
   "source": [
    "amzn.recommendations"
   ]
  },
  {
   "cell_type": "code",
   "execution_count": 7,
   "metadata": {},
   "outputs": [
    {
     "output_type": "execute_result",
     "data": {
      "text/plain": "DatetimeIndex(['2011-12-29 12:47:00', '2012-02-15 07:33:00',\n               '2012-02-16 06:17:00', '2012-04-02 06:06:00',\n               '2012-04-27 06:21:00', '2012-04-27 07:20:00',\n               '2012-04-27 08:09:00', '2012-04-27 08:18:00',\n               '2012-04-27 08:38:00', '2012-04-27 08:41:00',\n               ...\n               '2020-07-24 08:43:27', '2020-07-24 12:35:51',\n               '2020-07-27 14:24:28', '2020-07-30 16:51:52',\n               '2020-07-31 08:43:04', '2020-07-31 10:59:40',\n               '2020-07-31 11:41:56', '2020-07-31 11:46:26',\n               '2020-07-31 12:48:42', '2020-07-31 13:43:10'],\n              dtype='datetime64[ns]', name='Date', length=372, freq=None)"
     },
     "metadata": {},
     "execution_count": 7
    }
   ],
   "source": [
    "df = amzn.recommendations\n",
    "df.index"
   ]
  },
  {
   "cell_type": "code",
   "execution_count": 14,
   "metadata": {},
   "outputs": [
    {
     "output_type": "execute_result",
     "data": {
      "text/plain": "array(['main', 'down', 'up', 'init', 'reit'], dtype=object)"
     },
     "metadata": {},
     "execution_count": 14
    }
   ],
   "source": [
    "from datetime import date\n",
    "import pandas as pd\n",
    "df.Action.unique()"
   ]
  },
  {
   "cell_type": "code",
   "execution_count": null,
   "metadata": {},
   "outputs": [],
   "source": []
  }
 ]
}